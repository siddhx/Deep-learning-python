{
 "cells": [
  {
   "cell_type": "markdown",
   "metadata": {},
   "source": [
    "# AlexNet"
   ]
  },
  {
   "cell_type": "markdown",
   "metadata": {},
   "source": [
    "We're going to classify oxford flowers!"
   ]
  },
  {
   "cell_type": "markdown",
   "metadata": {},
   "source": [
    "#### Set seed"
   ]
  },
  {
   "cell_type": "code",
   "execution_count": 1,
   "metadata": {},
   "outputs": [],
   "source": [
    "import numpy as np\n",
    "np.random.seed(42)"
   ]
  },
  {
   "cell_type": "markdown",
   "metadata": {},
   "source": [
    "#### Load dependencies"
   ]
  },
  {
   "cell_type": "code",
   "execution_count": 2,
   "metadata": {},
   "outputs": [
    {
     "name": "stderr",
     "output_type": "stream",
     "text": [
      "Using TensorFlow backend.\n"
     ]
    }
   ],
   "source": [
    "import keras\n",
    "from keras.models import Sequential\n",
    "from keras.layers import Dense, Dropout, Flatten, Conv2D, MaxPooling2D\n",
    "from keras.layers.normalization import BatchNormalization\n",
    "from keras.callbacks import TensorBoard"
   ]
  },
  {
   "cell_type": "markdown",
   "metadata": {},
   "source": [
    "#### Load and preprocess data"
   ]
  },
  {
   "cell_type": "code",
   "execution_count": 3,
   "metadata": {},
   "outputs": [
    {
     "name": "stdout",
     "output_type": "stream",
     "text": [
      "hdf5 is not supported on this machine (please install/reinstall h5py for optimal experience)\n",
      "curses is not supported on this machine (please install/reinstall curses for an optimal experience)\n"
     ]
    }
   ],
   "source": [
    "import tflearn.datasets.oxflower17 as oxflower17\n",
    "X, Y = oxflower17.load_data(one_hot=True)"
   ]
  },
  {
   "cell_type": "markdown",
   "metadata": {},
   "source": [
    "#### Design neural network architecture"
   ]
  },
  {
   "cell_type": "code",
   "execution_count": 4,
   "metadata": {},
   "outputs": [],
   "source": [
    "model = Sequential()\n",
    "\n",
    "model.add(Conv2D(96, kernel_size=(11, 11), strides=(4, 4), activation='relu', input_shape=(224,224, 3)))\n",
    "model.add(MaxPooling2D(pool_size=(3,3), strides=(2,2)))\n",
    "model.add(BatchNormalization())\n",
    "\n",
    "model.add(Conv2D(256, kernel_size=(5,5), activation='relu'))\n",
    "model.add(MaxPooling2D(pool_size=(3,3), strides=(2,2)))\n",
    "model.add(BatchNormalization())\n",
    "\n",
    "model.add(Conv2D(256, kernel_size=(3,3), activation='relu'))\n",
    "model.add(Conv2D(384, kernel_size=(3,3), activation='relu'))\n",
    "model.add(Conv2D(384, kernel_size=(3,3), activation='relu'))\n",
    "model.add(MaxPooling2D(pool_size=(3,3), strides=(2,2)))\n",
    "model.add(BatchNormalization())\n",
    "\n",
    "model.add(Flatten())\n",
    "model.add(Dense(4096,activation='tanh'))\n",
    "model.add(Dropout(0.5))\n",
    "model.add(Dense(4096,activation='tanh'))\n",
    "model.add(Dropout(0.5))\n",
    "\n",
    "model.add(Dense(17, activation='softmax'))"
   ]
  },
  {
   "cell_type": "code",
   "execution_count": 5,
   "metadata": {},
   "outputs": [
    {
     "name": "stdout",
     "output_type": "stream",
     "text": [
      "_________________________________________________________________\n",
      "Layer (type)                 Output Shape              Param #   \n",
      "=================================================================\n",
      "conv2d_1 (Conv2D)            (None, 54, 54, 96)        34944     \n",
      "_________________________________________________________________\n",
      "max_pooling2d_1 (MaxPooling2 (None, 26, 26, 96)        0         \n",
      "_________________________________________________________________\n",
      "batch_normalization_1 (Batch (None, 26, 26, 96)        384       \n",
      "_________________________________________________________________\n",
      "conv2d_2 (Conv2D)            (None, 22, 22, 256)       614656    \n",
      "_________________________________________________________________\n",
      "max_pooling2d_2 (MaxPooling2 (None, 10, 10, 256)       0         \n",
      "_________________________________________________________________\n",
      "batch_normalization_2 (Batch (None, 10, 10, 256)       1024      \n",
      "_________________________________________________________________\n",
      "conv2d_3 (Conv2D)            (None, 8, 8, 256)         590080    \n",
      "_________________________________________________________________\n",
      "conv2d_4 (Conv2D)            (None, 6, 6, 384)         885120    \n",
      "_________________________________________________________________\n",
      "conv2d_5 (Conv2D)            (None, 4, 4, 384)         1327488   \n",
      "_________________________________________________________________\n",
      "max_pooling2d_3 (MaxPooling2 (None, 1, 1, 384)         0         \n",
      "_________________________________________________________________\n",
      "batch_normalization_3 (Batch (None, 1, 1, 384)         1536      \n",
      "_________________________________________________________________\n",
      "flatten_1 (Flatten)          (None, 384)               0         \n",
      "_________________________________________________________________\n",
      "dense_1 (Dense)              (None, 4096)              1576960   \n",
      "_________________________________________________________________\n",
      "dropout_1 (Dropout)          (None, 4096)              0         \n",
      "_________________________________________________________________\n",
      "dense_2 (Dense)              (None, 4096)              16781312  \n",
      "_________________________________________________________________\n",
      "dropout_2 (Dropout)          (None, 4096)              0         \n",
      "_________________________________________________________________\n",
      "dense_3 (Dense)              (None, 17)                69649     \n",
      "=================================================================\n",
      "Total params: 21,883,153\n",
      "Trainable params: 21,881,681\n",
      "Non-trainable params: 1,472\n",
      "_________________________________________________________________\n"
     ]
    }
   ],
   "source": [
    "model.summary()"
   ]
  },
  {
   "cell_type": "markdown",
   "metadata": {},
   "source": [
    "#### Configure model"
   ]
  },
  {
   "cell_type": "code",
   "execution_count": 6,
   "metadata": {},
   "outputs": [],
   "source": [
    "model.compile(loss='categorical_crossentropy', optimizer='adam', metrics=['accuracy'])"
   ]
  },
  {
   "cell_type": "markdown",
   "metadata": {},
   "source": [
    "#### Configure  TensorBoard "
   ]
  },
  {
   "cell_type": "code",
   "execution_count": 13,
   "metadata": {},
   "outputs": [],
   "source": [
    "tensorbrd = TensorBoard(log_dir='./tensorboard_logs/alexnet')\n",
    "# tensorbrd = TensorBoard('./tensorboard_logs/alexnet')"
   ]
  },
  {
   "cell_type": "markdown",
   "metadata": {},
   "source": [
    "#### Train"
   ]
  },
  {
   "cell_type": "code",
   "execution_count": 15,
   "metadata": {
    "scrolled": true
   },
   "outputs": [
    {
     "name": "stdout",
     "output_type": "stream",
     "text": [
      "Train on 1224 samples, validate on 136 samples\n",
      "Epoch 1/100\n",
      "1224/1224 [==============================] - 5s 4ms/step - loss: 1.4238 - acc: 0.5964 - val_loss: 2.4370 - val_acc: 0.5147\n",
      "Epoch 2/100\n",
      "1224/1224 [==============================] - 5s 4ms/step - loss: 1.3991 - acc: 0.6225 - val_loss: 2.1818 - val_acc: 0.4926\n",
      "Epoch 3/100\n",
      "1224/1224 [==============================] - 5s 4ms/step - loss: 1.4285 - acc: 0.6193 - val_loss: 2.0657 - val_acc: 0.5294\n",
      "Epoch 4/100\n",
      "1224/1224 [==============================] - 4s 4ms/step - loss: 1.3032 - acc: 0.6348 - val_loss: 2.3166 - val_acc: 0.5294\n",
      "Epoch 5/100\n",
      "1224/1224 [==============================] - 5s 4ms/step - loss: 1.0412 - acc: 0.6928 - val_loss: 3.6154 - val_acc: 0.4779\n",
      "Epoch 6/100\n",
      "1224/1224 [==============================] - 4s 4ms/step - loss: 1.0917 - acc: 0.6977 - val_loss: 1.9807 - val_acc: 0.5588\n",
      "Epoch 7/100\n",
      "1224/1224 [==============================] - 5s 4ms/step - loss: 1.1232 - acc: 0.6953 - val_loss: 2.6382 - val_acc: 0.5074\n",
      "Epoch 8/100\n",
      "1224/1224 [==============================] - 5s 4ms/step - loss: 1.1420 - acc: 0.6895 - val_loss: 1.6749 - val_acc: 0.6176\n",
      "Epoch 9/100\n",
      "1224/1224 [==============================] - 5s 4ms/step - loss: 1.1036 - acc: 0.6887 - val_loss: 2.2969 - val_acc: 0.5441\n",
      "Epoch 10/100\n",
      "1224/1224 [==============================] - 5s 4ms/step - loss: 1.0482 - acc: 0.6985 - val_loss: 3.9517 - val_acc: 0.3897\n",
      "Epoch 11/100\n",
      "1224/1224 [==============================] - 5s 4ms/step - loss: 0.9342 - acc: 0.7361 - val_loss: 2.3411 - val_acc: 0.5368\n",
      "Epoch 12/100\n",
      "1224/1224 [==============================] - 5s 4ms/step - loss: 0.9422 - acc: 0.7320 - val_loss: 4.4976 - val_acc: 0.3529\n",
      "Epoch 13/100\n",
      "1224/1224 [==============================] - 5s 4ms/step - loss: 0.6841 - acc: 0.7859 - val_loss: 1.8128 - val_acc: 0.5956\n",
      "Epoch 14/100\n",
      "1224/1224 [==============================] - 5s 4ms/step - loss: 0.8434 - acc: 0.7843 - val_loss: 2.6918 - val_acc: 0.5221\n",
      "Epoch 15/100\n",
      "1224/1224 [==============================] - 4s 4ms/step - loss: 1.2312 - acc: 0.7059 - val_loss: 2.1186 - val_acc: 0.5588\n",
      "Epoch 16/100\n",
      "1224/1224 [==============================] - 5s 4ms/step - loss: 1.2425 - acc: 0.6977 - val_loss: 2.9698 - val_acc: 0.5147\n",
      "Epoch 17/100\n",
      "1224/1224 [==============================] - 5s 4ms/step - loss: 0.9448 - acc: 0.7533 - val_loss: 2.6035 - val_acc: 0.5588\n",
      "Epoch 18/100\n",
      "1224/1224 [==============================] - 5s 4ms/step - loss: 0.9374 - acc: 0.7533 - val_loss: 2.3011 - val_acc: 0.5809\n",
      "Epoch 19/100\n",
      "1224/1224 [==============================] - 5s 4ms/step - loss: 0.7175 - acc: 0.8023 - val_loss: 3.3152 - val_acc: 0.4779\n",
      "Epoch 20/100\n",
      "1224/1224 [==============================] - 5s 4ms/step - loss: 0.9558 - acc: 0.7778 - val_loss: 3.4226 - val_acc: 0.5147\n",
      "Epoch 21/100\n",
      "1224/1224 [==============================] - 5s 4ms/step - loss: 1.0122 - acc: 0.7443 - val_loss: 2.8128 - val_acc: 0.5221\n",
      "Epoch 22/100\n",
      "1224/1224 [==============================] - 5s 4ms/step - loss: 0.6622 - acc: 0.8039 - val_loss: 2.5064 - val_acc: 0.5441\n",
      "Epoch 23/100\n",
      "1224/1224 [==============================] - 5s 4ms/step - loss: 1.0144 - acc: 0.7435 - val_loss: 4.7794 - val_acc: 0.3382\n",
      "Epoch 24/100\n",
      "1224/1224 [==============================] - 5s 4ms/step - loss: 1.6320 - acc: 0.6193 - val_loss: 3.9723 - val_acc: 0.3456\n",
      "Epoch 25/100\n",
      "1224/1224 [==============================] - 5s 4ms/step - loss: 1.0542 - acc: 0.7239 - val_loss: 2.4483 - val_acc: 0.5000\n",
      "Epoch 26/100\n",
      "1224/1224 [==============================] - 5s 4ms/step - loss: 0.9784 - acc: 0.7590 - val_loss: 2.8200 - val_acc: 0.4779\n",
      "Epoch 27/100\n",
      "1224/1224 [==============================] - 5s 4ms/step - loss: 0.6525 - acc: 0.8080 - val_loss: 1.9536 - val_acc: 0.6397\n",
      "Epoch 28/100\n",
      "1224/1224 [==============================] - 5s 4ms/step - loss: 0.3561 - acc: 0.8832 - val_loss: 1.8881 - val_acc: 0.6912\n",
      "Epoch 29/100\n",
      "1224/1224 [==============================] - 5s 4ms/step - loss: 0.3958 - acc: 0.8725 - val_loss: 2.0447 - val_acc: 0.6029\n",
      "Epoch 30/100\n",
      "1224/1224 [==============================] - 5s 4ms/step - loss: 0.4389 - acc: 0.8676 - val_loss: 2.0941 - val_acc: 0.6250\n",
      "Epoch 31/100\n",
      "1224/1224 [==============================] - 5s 4ms/step - loss: 0.3685 - acc: 0.8938 - val_loss: 2.0087 - val_acc: 0.6176\n",
      "Epoch 32/100\n",
      "1224/1224 [==============================] - 5s 4ms/step - loss: 0.2776 - acc: 0.9150 - val_loss: 1.9136 - val_acc: 0.6397\n",
      "Epoch 33/100\n",
      "1224/1224 [==============================] - 5s 4ms/step - loss: 0.5185 - acc: 0.8505 - val_loss: 2.5427 - val_acc: 0.5956\n",
      "Epoch 34/100\n",
      "1224/1224 [==============================] - 5s 4ms/step - loss: 0.7137 - acc: 0.8162 - val_loss: 2.7473 - val_acc: 0.5368\n",
      "Epoch 35/100\n",
      "1224/1224 [==============================] - 5s 4ms/step - loss: 0.3412 - acc: 0.8962 - val_loss: 2.3334 - val_acc: 0.5956\n",
      "Epoch 36/100\n",
      "1224/1224 [==============================] - 5s 4ms/step - loss: 0.4071 - acc: 0.8873 - val_loss: 2.9964 - val_acc: 0.5662\n",
      "Epoch 37/100\n",
      "1224/1224 [==============================] - 5s 4ms/step - loss: 0.3481 - acc: 0.8881 - val_loss: 2.7372 - val_acc: 0.5882\n",
      "Epoch 38/100\n",
      "1224/1224 [==============================] - 5s 4ms/step - loss: 0.2209 - acc: 0.9224 - val_loss: 2.3046 - val_acc: 0.6176\n",
      "Epoch 39/100\n",
      "1224/1224 [==============================] - 5s 4ms/step - loss: 0.1974 - acc: 0.9330 - val_loss: 2.1825 - val_acc: 0.6912\n",
      "Epoch 40/100\n",
      "1224/1224 [==============================] - 5s 4ms/step - loss: 0.5198 - acc: 0.8668 - val_loss: 4.1277 - val_acc: 0.4559\n",
      "Epoch 41/100\n",
      "1224/1224 [==============================] - 5s 4ms/step - loss: 0.6014 - acc: 0.8333 - val_loss: 3.1774 - val_acc: 0.5074\n",
      "Epoch 42/100\n",
      "1224/1224 [==============================] - 5s 4ms/step - loss: 0.5897 - acc: 0.8546 - val_loss: 6.2623 - val_acc: 0.3088\n",
      "Epoch 43/100\n",
      "1224/1224 [==============================] - 4s 4ms/step - loss: 0.3751 - acc: 0.8807 - val_loss: 3.0763 - val_acc: 0.5441\n",
      "Epoch 44/100\n",
      "1224/1224 [==============================] - 4s 4ms/step - loss: 0.2519 - acc: 0.9126 - val_loss: 3.3699 - val_acc: 0.5074\n",
      "Epoch 45/100\n",
      "1224/1224 [==============================] - 4s 4ms/step - loss: 0.3728 - acc: 0.8938 - val_loss: 2.6413 - val_acc: 0.6618\n",
      "Epoch 46/100\n",
      "1224/1224 [==============================] - 4s 4ms/step - loss: 0.3771 - acc: 0.9093 - val_loss: 2.2318 - val_acc: 0.6397\n",
      "Epoch 47/100\n",
      "1224/1224 [==============================] - 4s 4ms/step - loss: 0.4779 - acc: 0.8856 - val_loss: 2.4220 - val_acc: 0.6471\n",
      "Epoch 48/100\n",
      "1224/1224 [==============================] - 5s 4ms/step - loss: 0.3525 - acc: 0.9020 - val_loss: 3.5396 - val_acc: 0.5074\n",
      "Epoch 49/100\n",
      "1224/1224 [==============================] - 4s 4ms/step - loss: 0.3122 - acc: 0.9199 - val_loss: 3.5249 - val_acc: 0.5441\n",
      "Epoch 50/100\n",
      "1224/1224 [==============================] - 4s 4ms/step - loss: 0.2870 - acc: 0.9265 - val_loss: 3.1594 - val_acc: 0.6029\n",
      "Epoch 51/100\n",
      "1224/1224 [==============================] - 4s 4ms/step - loss: 0.3268 - acc: 0.9142 - val_loss: 2.9586 - val_acc: 0.5956\n",
      "Epoch 52/100\n",
      "1224/1224 [==============================] - 5s 4ms/step - loss: 0.5694 - acc: 0.8734 - val_loss: 3.8092 - val_acc: 0.5588\n",
      "Epoch 53/100\n",
      "1224/1224 [==============================] - 4s 4ms/step - loss: 0.2857 - acc: 0.9281 - val_loss: 2.4544 - val_acc: 0.6544\n",
      "Epoch 54/100\n",
      "1224/1224 [==============================] - 5s 4ms/step - loss: 0.2643 - acc: 0.9273 - val_loss: 3.0882 - val_acc: 0.6397\n",
      "Epoch 55/100\n",
      "1224/1224 [==============================] - 4s 4ms/step - loss: 0.1491 - acc: 0.9534 - val_loss: 2.9405 - val_acc: 0.6985\n",
      "Epoch 56/100\n",
      "1224/1224 [==============================] - 4s 4ms/step - loss: 0.1909 - acc: 0.9420 - val_loss: 2.9530 - val_acc: 0.6324\n",
      "Epoch 57/100\n",
      "1224/1224 [==============================] - 4s 4ms/step - loss: 0.3496 - acc: 0.9224 - val_loss: 2.1104 - val_acc: 0.6691\n",
      "Epoch 58/100\n",
      "1224/1224 [==============================] - 5s 4ms/step - loss: 0.2041 - acc: 0.9363 - val_loss: 2.1338 - val_acc: 0.7353\n",
      "Epoch 59/100\n",
      "1224/1224 [==============================] - 4s 4ms/step - loss: 0.2139 - acc: 0.9444 - val_loss: 2.3667 - val_acc: 0.7059\n",
      "Epoch 60/100\n",
      "1224/1224 [==============================] - 4s 4ms/step - loss: 0.3760 - acc: 0.9036 - val_loss: 2.1733 - val_acc: 0.7059\n"
     ]
    },
    {
     "name": "stdout",
     "output_type": "stream",
     "text": [
      "Epoch 61/100\n",
      "1224/1224 [==============================] - 4s 4ms/step - loss: 0.4953 - acc: 0.8864 - val_loss: 3.3268 - val_acc: 0.5809\n",
      "Epoch 62/100\n",
      "1224/1224 [==============================] - 5s 4ms/step - loss: 0.4440 - acc: 0.9003 - val_loss: 3.4648 - val_acc: 0.5515\n",
      "Epoch 63/100\n",
      "1224/1224 [==============================] - 4s 4ms/step - loss: 0.1907 - acc: 0.9477 - val_loss: 2.9839 - val_acc: 0.5956\n",
      "Epoch 64/100\n",
      "1224/1224 [==============================] - 4s 4ms/step - loss: 0.1747 - acc: 0.9510 - val_loss: 1.9087 - val_acc: 0.7574\n",
      "Epoch 65/100\n",
      "1224/1224 [==============================] - 4s 4ms/step - loss: 0.2487 - acc: 0.9338 - val_loss: 2.6423 - val_acc: 0.6544\n",
      "Epoch 66/100\n",
      "1224/1224 [==============================] - 5s 4ms/step - loss: 0.1812 - acc: 0.9493 - val_loss: 2.5371 - val_acc: 0.6691\n",
      "Epoch 67/100\n",
      "1224/1224 [==============================] - 5s 4ms/step - loss: 0.2954 - acc: 0.9232 - val_loss: 3.5416 - val_acc: 0.5588\n",
      "Epoch 68/100\n",
      "1224/1224 [==============================] - 5s 4ms/step - loss: 0.1969 - acc: 0.9404 - val_loss: 2.6047 - val_acc: 0.6471\n",
      "Epoch 69/100\n",
      "1224/1224 [==============================] - 4s 4ms/step - loss: 0.2409 - acc: 0.9379 - val_loss: 2.3870 - val_acc: 0.6838\n",
      "Epoch 70/100\n",
      "1224/1224 [==============================] - 4s 4ms/step - loss: 0.3090 - acc: 0.9273 - val_loss: 2.8602 - val_acc: 0.6324\n",
      "Epoch 71/100\n",
      "1224/1224 [==============================] - 5s 4ms/step - loss: 0.3083 - acc: 0.9314 - val_loss: 2.4724 - val_acc: 0.6765\n",
      "Epoch 72/100\n",
      "1224/1224 [==============================] - 4s 4ms/step - loss: 0.1424 - acc: 0.9592 - val_loss: 2.7207 - val_acc: 0.6176\n",
      "Epoch 73/100\n",
      "1224/1224 [==============================] - 4s 4ms/step - loss: 0.0752 - acc: 0.9739 - val_loss: 2.9811 - val_acc: 0.6103\n",
      "Epoch 74/100\n",
      "1224/1224 [==============================] - 4s 4ms/step - loss: 0.1034 - acc: 0.9681 - val_loss: 2.5599 - val_acc: 0.6691\n",
      "Epoch 75/100\n",
      "1224/1224 [==============================] - 4s 4ms/step - loss: 0.2221 - acc: 0.9485 - val_loss: 3.0540 - val_acc: 0.6691\n",
      "Epoch 76/100\n",
      "1224/1224 [==============================] - 5s 4ms/step - loss: 0.2839 - acc: 0.9363 - val_loss: 3.3272 - val_acc: 0.5882\n",
      "Epoch 77/100\n",
      "1224/1224 [==============================] - 4s 4ms/step - loss: 0.4593 - acc: 0.9134 - val_loss: 2.7603 - val_acc: 0.6471\n",
      "Epoch 78/100\n",
      "1224/1224 [==============================] - 5s 4ms/step - loss: 0.2259 - acc: 0.9379 - val_loss: 2.9648 - val_acc: 0.6838\n",
      "Epoch 79/100\n",
      "1224/1224 [==============================] - 4s 4ms/step - loss: 0.1422 - acc: 0.9592 - val_loss: 1.7993 - val_acc: 0.7206\n",
      "Epoch 80/100\n",
      "1224/1224 [==============================] - 5s 4ms/step - loss: 0.1886 - acc: 0.9583 - val_loss: 2.7988 - val_acc: 0.6471\n",
      "Epoch 81/100\n",
      "1224/1224 [==============================] - 5s 4ms/step - loss: 0.2757 - acc: 0.9395 - val_loss: 2.3293 - val_acc: 0.7206\n",
      "Epoch 82/100\n",
      "1224/1224 [==============================] - 4s 4ms/step - loss: 0.2255 - acc: 0.9526 - val_loss: 2.5512 - val_acc: 0.6324\n",
      "Epoch 83/100\n",
      "1224/1224 [==============================] - 4s 4ms/step - loss: 0.2687 - acc: 0.9363 - val_loss: 2.1499 - val_acc: 0.6912\n",
      "Epoch 84/100\n",
      "1224/1224 [==============================] - 4s 4ms/step - loss: 0.4757 - acc: 0.8962 - val_loss: 2.4811 - val_acc: 0.6618\n",
      "Epoch 85/100\n",
      "1224/1224 [==============================] - 4s 4ms/step - loss: 0.2572 - acc: 0.9379 - val_loss: 3.4600 - val_acc: 0.6103\n",
      "Epoch 86/100\n",
      "1224/1224 [==============================] - 5s 4ms/step - loss: 0.1243 - acc: 0.9559 - val_loss: 1.9438 - val_acc: 0.7794\n",
      "Epoch 87/100\n",
      "1224/1224 [==============================] - 4s 4ms/step - loss: 0.1969 - acc: 0.9412 - val_loss: 2.2407 - val_acc: 0.7353\n",
      "Epoch 88/100\n",
      "1224/1224 [==============================] - 5s 4ms/step - loss: 0.2895 - acc: 0.9314 - val_loss: 2.9819 - val_acc: 0.6765\n",
      "Epoch 89/100\n",
      "1224/1224 [==============================] - 5s 4ms/step - loss: 0.2588 - acc: 0.9469 - val_loss: 2.7441 - val_acc: 0.6618\n",
      "Epoch 90/100\n",
      "1224/1224 [==============================] - 5s 4ms/step - loss: 0.2484 - acc: 0.9461 - val_loss: 2.8610 - val_acc: 0.6618\n",
      "Epoch 91/100\n",
      "1224/1224 [==============================] - 5s 4ms/step - loss: 0.2014 - acc: 0.9461 - val_loss: 2.4262 - val_acc: 0.7206\n",
      "Epoch 92/100\n",
      "1224/1224 [==============================] - 5s 4ms/step - loss: 0.2635 - acc: 0.9371 - val_loss: 3.2681 - val_acc: 0.6544\n",
      "Epoch 93/100\n",
      "1224/1224 [==============================] - 5s 4ms/step - loss: 0.0740 - acc: 0.9763 - val_loss: 2.5713 - val_acc: 0.7059\n",
      "Epoch 94/100\n",
      "1224/1224 [==============================] - 5s 4ms/step - loss: 0.1293 - acc: 0.9690 - val_loss: 2.9516 - val_acc: 0.6765\n",
      "Epoch 95/100\n",
      "1224/1224 [==============================] - 5s 4ms/step - loss: 0.1043 - acc: 0.9722 - val_loss: 2.2135 - val_acc: 0.6985\n",
      "Epoch 96/100\n",
      "1224/1224 [==============================] - 5s 4ms/step - loss: 0.1448 - acc: 0.9608 - val_loss: 2.5706 - val_acc: 0.6985\n",
      "Epoch 97/100\n",
      "1224/1224 [==============================] - 5s 4ms/step - loss: 0.1300 - acc: 0.9698 - val_loss: 2.4611 - val_acc: 0.6471\n",
      "Epoch 98/100\n",
      "1224/1224 [==============================] - 5s 4ms/step - loss: 0.1445 - acc: 0.9657 - val_loss: 3.0077 - val_acc: 0.6691\n",
      "Epoch 99/100\n",
      "1224/1224 [==============================] - 5s 4ms/step - loss: 0.3789 - acc: 0.9314 - val_loss: 3.0161 - val_acc: 0.6912\n",
      "Epoch 100/100\n",
      "1224/1224 [==============================] - 5s 4ms/step - loss: 0.3564 - acc: 0.9289 - val_loss: 3.2658 - val_acc: 0.6250\n"
     ]
    },
    {
     "data": {
      "text/plain": [
       "<keras.callbacks.History at 0x255c1dce0b8>"
      ]
     },
     "execution_count": 15,
     "metadata": {},
     "output_type": "execute_result"
    }
   ],
   "source": [
    "model.fit(X, Y, batch_size=64, epochs=100, verbose=1, validation_split=0.1, shuffle=True, callbacks=[tensorbrd])"
   ]
  },
  {
   "cell_type": "code",
   "execution_count": 9,
   "metadata": {},
   "outputs": [],
   "source": [
    "# tensorbrd.set_model(model)"
   ]
  },
  {
   "cell_type": "code",
   "execution_count": null,
   "metadata": {},
   "outputs": [],
   "source": []
  }
 ],
 "metadata": {
  "kernelspec": {
   "display_name": "Python 3",
   "language": "python",
   "name": "python3"
  },
  "language_info": {
   "codemirror_mode": {
    "name": "ipython",
    "version": 3
   },
   "file_extension": ".py",
   "mimetype": "text/x-python",
   "name": "python",
   "nbconvert_exporter": "python",
   "pygments_lexer": "ipython3",
   "version": "3.5.3"
  }
 },
 "nbformat": 4,
 "nbformat_minor": 2
}
