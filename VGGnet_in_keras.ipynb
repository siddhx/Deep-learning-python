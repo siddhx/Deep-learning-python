{
 "cells": [
  {
   "cell_type": "markdown",
   "metadata": {},
   "source": [
    "# VGGNet"
   ]
  },
  {
   "cell_type": "markdown",
   "metadata": {},
   "source": [
    "We're going to classify oxford flowers!"
   ]
  },
  {
   "cell_type": "markdown",
   "metadata": {},
   "source": [
    "#### Set seed"
   ]
  },
  {
   "cell_type": "code",
   "execution_count": 10,
   "metadata": {},
   "outputs": [],
   "source": [
    "import numpy as np\n",
    "np.random.seed(42)"
   ]
  },
  {
   "cell_type": "markdown",
   "metadata": {},
   "source": [
    "#### Load dependencies"
   ]
  },
  {
   "cell_type": "code",
   "execution_count": 11,
   "metadata": {},
   "outputs": [],
   "source": [
    "import keras\n",
    "from keras.models import Sequential\n",
    "from keras.layers import Dense, Dropout, Flatten, Conv2D, MaxPooling2D\n",
    "from keras.layers.normalization import BatchNormalization\n",
    "from keras.callbacks import TensorBoard"
   ]
  },
  {
   "cell_type": "markdown",
   "metadata": {},
   "source": [
    "#### Load and preprocess data"
   ]
  },
  {
   "cell_type": "code",
   "execution_count": 12,
   "metadata": {},
   "outputs": [],
   "source": [
    "import tflearn.datasets.oxflower17 as oxflower17\n",
    "X, Y = oxflower17.load_data(one_hot=True)"
   ]
  },
  {
   "cell_type": "markdown",
   "metadata": {},
   "source": [
    "#### Design neural network architecture"
   ]
  },
  {
   "cell_type": "code",
   "execution_count": 13,
   "metadata": {},
   "outputs": [],
   "source": [
    "model = Sequential()\n",
    "\n",
    "model.add(Conv2D(64, 3, activation='relu', input_shape=(224,224, 3)))\n",
    "model.add(Conv2D(64, 3, activation='relu'))\n",
    "model.add(MaxPooling2D((2,2)))\n",
    "model.add(BatchNormalization())\n",
    "\n",
    "model.add(Conv2D(128, 3, activation='relu'))\n",
    "model.add(Conv2D(128, 3, activation='relu'))\n",
    "model.add(MaxPooling2D((2,2)))\n",
    "model.add(BatchNormalization())\n",
    "\n",
    "model.add(Conv2D(256, 3, activation='relu'))\n",
    "model.add(Conv2D(256, 3, activation='relu'))\n",
    "model.add(Conv2D(256, 3, activation='relu'))\n",
    "model.add(MaxPooling2D((2,2)))\n",
    "model.add(BatchNormalization())\n",
    "\n",
    "model.add(Conv2D(512, 3, activation='relu'))\n",
    "model.add(Conv2D(512, 3, activation='relu'))\n",
    "model.add(Conv2D(512, 3, activation='relu'))\n",
    "model.add(MaxPooling2D((2,2)))\n",
    "model.add(BatchNormalization())\n",
    "\n",
    "model.add(Conv2D(512, 3, activation='relu'))\n",
    "model.add(Conv2D(512, 3, activation='relu'))\n",
    "model.add(Conv2D(512, 3, activation='relu'))\n",
    "model.add(MaxPooling2D((2,2)))\n",
    "model.add(BatchNormalization())\n",
    "\n",
    "model.add(Flatten())\n",
    "model.add(Dense(4096,activation='tanh'))\n",
    "model.add(Dropout(0.5))\n",
    "model.add(Dense(4096,activation='tanh'))\n",
    "model.add(Dropout(0.5))\n",
    "\n",
    "model.add(Dense(17, activation='softmax'))"
   ]
  },
  {
   "cell_type": "code",
   "execution_count": 14,
   "metadata": {},
   "outputs": [
    {
     "name": "stdout",
     "output_type": "stream",
     "text": [
      "_________________________________________________________________\n",
      "Layer (type)                 Output Shape              Param #   \n",
      "=================================================================\n",
      "conv2d_14 (Conv2D)           (None, 222, 222, 64)      1792      \n",
      "_________________________________________________________________\n",
      "conv2d_15 (Conv2D)           (None, 220, 220, 64)      36928     \n",
      "_________________________________________________________________\n",
      "max_pooling2d_6 (MaxPooling2 (None, 110, 110, 64)      0         \n",
      "_________________________________________________________________\n",
      "batch_normalization_6 (Batch (None, 110, 110, 64)      256       \n",
      "_________________________________________________________________\n",
      "conv2d_16 (Conv2D)           (None, 108, 108, 128)     73856     \n",
      "_________________________________________________________________\n",
      "conv2d_17 (Conv2D)           (None, 106, 106, 128)     147584    \n",
      "_________________________________________________________________\n",
      "max_pooling2d_7 (MaxPooling2 (None, 53, 53, 128)       0         \n",
      "_________________________________________________________________\n",
      "batch_normalization_7 (Batch (None, 53, 53, 128)       512       \n",
      "_________________________________________________________________\n",
      "conv2d_18 (Conv2D)           (None, 51, 51, 256)       295168    \n",
      "_________________________________________________________________\n",
      "conv2d_19 (Conv2D)           (None, 49, 49, 256)       590080    \n",
      "_________________________________________________________________\n",
      "conv2d_20 (Conv2D)           (None, 47, 47, 256)       590080    \n",
      "_________________________________________________________________\n",
      "max_pooling2d_8 (MaxPooling2 (None, 23, 23, 256)       0         \n",
      "_________________________________________________________________\n",
      "batch_normalization_8 (Batch (None, 23, 23, 256)       1024      \n",
      "_________________________________________________________________\n",
      "conv2d_21 (Conv2D)           (None, 21, 21, 512)       1180160   \n",
      "_________________________________________________________________\n",
      "conv2d_22 (Conv2D)           (None, 19, 19, 512)       2359808   \n",
      "_________________________________________________________________\n",
      "conv2d_23 (Conv2D)           (None, 17, 17, 512)       2359808   \n",
      "_________________________________________________________________\n",
      "max_pooling2d_9 (MaxPooling2 (None, 8, 8, 512)         0         \n",
      "_________________________________________________________________\n",
      "batch_normalization_9 (Batch (None, 8, 8, 512)         2048      \n",
      "_________________________________________________________________\n",
      "conv2d_24 (Conv2D)           (None, 6, 6, 512)         2359808   \n",
      "_________________________________________________________________\n",
      "conv2d_25 (Conv2D)           (None, 4, 4, 512)         2359808   \n",
      "_________________________________________________________________\n",
      "conv2d_26 (Conv2D)           (None, 2, 2, 512)         2359808   \n",
      "_________________________________________________________________\n",
      "max_pooling2d_10 (MaxPooling (None, 1, 1, 512)         0         \n",
      "_________________________________________________________________\n",
      "batch_normalization_10 (Batc (None, 1, 1, 512)         2048      \n",
      "_________________________________________________________________\n",
      "flatten_2 (Flatten)          (None, 512)               0         \n",
      "_________________________________________________________________\n",
      "dense_4 (Dense)              (None, 4096)              2101248   \n",
      "_________________________________________________________________\n",
      "dropout_3 (Dropout)          (None, 4096)              0         \n",
      "_________________________________________________________________\n",
      "dense_5 (Dense)              (None, 4096)              16781312  \n",
      "_________________________________________________________________\n",
      "dropout_4 (Dropout)          (None, 4096)              0         \n",
      "_________________________________________________________________\n",
      "dense_6 (Dense)              (None, 17)                69649     \n",
      "=================================================================\n",
      "Total params: 33,672,785\n",
      "Trainable params: 33,669,841\n",
      "Non-trainable params: 2,944\n",
      "_________________________________________________________________\n"
     ]
    }
   ],
   "source": [
    "model.summary()"
   ]
  },
  {
   "cell_type": "markdown",
   "metadata": {},
   "source": [
    "#### Configure model"
   ]
  },
  {
   "cell_type": "code",
   "execution_count": 15,
   "metadata": {},
   "outputs": [],
   "source": [
    "model.compile(loss='categorical_crossentropy', optimizer='adam', metrics=['accuracy'])"
   ]
  },
  {
   "cell_type": "markdown",
   "metadata": {},
   "source": [
    "#### Train"
   ]
  },
  {
   "cell_type": "code",
   "execution_count": 16,
   "metadata": {},
   "outputs": [],
   "source": [
    "tensorbrd = TensorBoard(log_dir='./tensorboard_logs/vggnet/')"
   ]
  },
  {
   "cell_type": "code",
   "execution_count": 17,
   "metadata": {},
   "outputs": [
    {
     "name": "stdout",
     "output_type": "stream",
     "text": [
      "Train on 1224 samples, validate on 136 samples\n",
      "Epoch 1/100\n",
      "1224/1224 [==============================] - 52s 43ms/step - loss: 4.8263 - acc: 0.0940 - val_loss: 3.2583 - val_acc: 0.1176\n",
      "Epoch 2/100\n",
      "1224/1224 [==============================] - 51s 42ms/step - loss: 4.0125 - acc: 0.0940 - val_loss: 3.4566 - val_acc: 0.1103\n",
      "Epoch 3/100\n",
      "1224/1224 [==============================] - 52s 42ms/step - loss: 4.0604 - acc: 0.1062 - val_loss: 3.7522 - val_acc: 0.1324\n",
      "Epoch 4/100\n",
      "1224/1224 [==============================] - 52s 42ms/step - loss: 3.8064 - acc: 0.1013 - val_loss: 3.8180 - val_acc: 0.1103\n",
      "Epoch 5/100\n",
      "1224/1224 [==============================] - 52s 42ms/step - loss: 4.1172 - acc: 0.0964 - val_loss: 3.4213 - val_acc: 0.0956\n",
      "Epoch 6/100\n",
      "1224/1224 [==============================] - 51s 42ms/step - loss: 4.1474 - acc: 0.0940 - val_loss: 2.9941 - val_acc: 0.1544\n",
      "Epoch 7/100\n",
      "1224/1224 [==============================] - 51s 42ms/step - loss: 4.4101 - acc: 0.0948 - val_loss: 5.4167 - val_acc: 0.1103\n",
      "Epoch 8/100\n",
      "1224/1224 [==============================] - 51s 42ms/step - loss: 4.3225 - acc: 0.0989 - val_loss: 3.2283 - val_acc: 0.0956\n",
      "Epoch 9/100\n",
      "1224/1224 [==============================] - 51s 42ms/step - loss: 4.0768 - acc: 0.1087 - val_loss: 4.7902 - val_acc: 0.0809\n",
      "Epoch 10/100\n",
      "1224/1224 [==============================] - 51s 42ms/step - loss: 4.1690 - acc: 0.0874 - val_loss: 3.3627 - val_acc: 0.1324\n",
      "Epoch 11/100\n",
      "1224/1224 [==============================] - 51s 42ms/step - loss: 3.9539 - acc: 0.0923 - val_loss: 3.2890 - val_acc: 0.1103\n",
      "Epoch 12/100\n",
      "1224/1224 [==============================] - 51s 42ms/step - loss: 4.0945 - acc: 0.0989 - val_loss: 2.9951 - val_acc: 0.1176\n",
      "Epoch 13/100\n",
      "1224/1224 [==============================] - 51s 42ms/step - loss: 4.0187 - acc: 0.1127 - val_loss: 4.0680 - val_acc: 0.0809\n",
      "Epoch 14/100\n",
      "1224/1224 [==============================] - 51s 42ms/step - loss: 4.0151 - acc: 0.1038 - val_loss: 3.4678 - val_acc: 0.0809\n",
      "Epoch 15/100\n",
      "1224/1224 [==============================] - 51s 42ms/step - loss: 4.0491 - acc: 0.1095 - val_loss: 5.2883 - val_acc: 0.0882\n",
      "Epoch 16/100\n",
      "1224/1224 [==============================] - 51s 42ms/step - loss: 4.0817 - acc: 0.1005 - val_loss: 3.5045 - val_acc: 0.0809\n",
      "Epoch 17/100\n",
      "1224/1224 [==============================] - 51s 42ms/step - loss: 4.1821 - acc: 0.0866 - val_loss: 3.1027 - val_acc: 0.0809\n",
      "Epoch 18/100\n",
      "1224/1224 [==============================] - 51s 42ms/step - loss: 4.1380 - acc: 0.1005 - val_loss: 3.2069 - val_acc: 0.1176\n",
      "Epoch 19/100\n",
      "1224/1224 [==============================] - 51s 41ms/step - loss: 3.9817 - acc: 0.1021 - val_loss: 3.0436 - val_acc: 0.1176\n",
      "Epoch 20/100\n",
      "1224/1224 [==============================] - 51s 41ms/step - loss: 4.1303 - acc: 0.0931 - val_loss: 3.3398 - val_acc: 0.0735\n",
      "Epoch 21/100\n",
      "1224/1224 [==============================] - 51s 42ms/step - loss: 4.2668 - acc: 0.0792 - val_loss: 3.9868 - val_acc: 0.0809\n",
      "Epoch 22/100\n",
      "1224/1224 [==============================] - 51s 42ms/step - loss: 4.6102 - acc: 0.0801 - val_loss: 3.5851 - val_acc: 0.0588\n",
      "Epoch 23/100\n",
      "1224/1224 [==============================] - 51s 42ms/step - loss: 4.0716 - acc: 0.0948 - val_loss: 3.7666 - val_acc: 0.0588\n",
      "Epoch 24/100\n",
      "1224/1224 [==============================] - 51s 42ms/step - loss: 4.0970 - acc: 0.0866 - val_loss: 3.2826 - val_acc: 0.1544\n",
      "Epoch 25/100\n",
      "1224/1224 [==============================] - 51s 42ms/step - loss: 4.1299 - acc: 0.0866 - val_loss: 3.6904 - val_acc: 0.0809\n",
      "Epoch 26/100\n",
      "1224/1224 [==============================] - 51s 42ms/step - loss: 4.1047 - acc: 0.1078 - val_loss: 3.1327 - val_acc: 0.0809\n",
      "Epoch 27/100\n",
      "1224/1224 [==============================] - 51s 42ms/step - loss: 4.0891 - acc: 0.1119 - val_loss: 3.9505 - val_acc: 0.0588\n",
      "Epoch 28/100\n",
      "1224/1224 [==============================] - 51s 42ms/step - loss: 4.0929 - acc: 0.0817 - val_loss: 3.3689 - val_acc: 0.0882\n",
      "Epoch 29/100\n",
      "1224/1224 [==============================] - 51s 42ms/step - loss: 4.2383 - acc: 0.0817 - val_loss: 3.4430 - val_acc: 0.0956\n",
      "Epoch 30/100\n",
      "1224/1224 [==============================] - 51s 42ms/step - loss: 4.2120 - acc: 0.0972 - val_loss: 5.6082 - val_acc: 0.0662\n",
      "Epoch 31/100\n",
      "1224/1224 [==============================] - 51s 42ms/step - loss: 4.2548 - acc: 0.0899 - val_loss: 4.6738 - val_acc: 0.0441\n",
      "Epoch 32/100\n",
      "1224/1224 [==============================] - 51s 42ms/step - loss: 4.1218 - acc: 0.0882 - val_loss: 3.5640 - val_acc: 0.1029\n",
      "Epoch 33/100\n",
      "1224/1224 [==============================] - 51s 42ms/step - loss: 3.9521 - acc: 0.1021 - val_loss: 2.9835 - val_acc: 0.1471\n",
      "Epoch 34/100\n",
      "1224/1224 [==============================] - 51s 42ms/step - loss: 4.1987 - acc: 0.1070 - val_loss: 3.8599 - val_acc: 0.1250\n",
      "Epoch 35/100\n",
      "1224/1224 [==============================] - 51s 42ms/step - loss: 4.0868 - acc: 0.1021 - val_loss: 3.6023 - val_acc: 0.1471\n",
      "Epoch 36/100\n",
      "1224/1224 [==============================] - 51s 42ms/step - loss: 4.0676 - acc: 0.1062 - val_loss: 3.2110 - val_acc: 0.1029\n",
      "Epoch 37/100\n",
      "1224/1224 [==============================] - 51s 42ms/step - loss: 4.2502 - acc: 0.0899 - val_loss: 4.2854 - val_acc: 0.0809\n",
      "Epoch 38/100\n",
      "1224/1224 [==============================] - 51s 42ms/step - loss: 4.2520 - acc: 0.0907 - val_loss: 3.9293 - val_acc: 0.1176\n",
      "Epoch 39/100\n",
      "1224/1224 [==============================] - 51s 42ms/step - loss: 4.0749 - acc: 0.1021 - val_loss: 4.3654 - val_acc: 0.0809\n",
      "Epoch 40/100\n",
      "1224/1224 [==============================] - 51s 42ms/step - loss: 4.1586 - acc: 0.0915 - val_loss: 3.3695 - val_acc: 0.0956\n",
      "Epoch 41/100\n",
      "1224/1224 [==============================] - 79s 64ms/step - loss: 4.2088 - acc: 0.1013 - val_loss: 3.6222 - val_acc: 0.1103\n",
      "Epoch 42/100\n",
      "1224/1224 [==============================] - 52s 42ms/step - loss: 4.0827 - acc: 0.1103 - val_loss: 3.8885 - val_acc: 0.1250\n",
      "Epoch 43/100\n",
      "1224/1224 [==============================] - 51s 42ms/step - loss: 4.1236 - acc: 0.0940 - val_loss: 3.3658 - val_acc: 0.1250\n",
      "Epoch 44/100\n",
      "1224/1224 [==============================] - 51s 42ms/step - loss: 4.1258 - acc: 0.1005 - val_loss: 3.7304 - val_acc: 0.1029\n",
      "Epoch 45/100\n",
      "1224/1224 [==============================] - 51s 42ms/step - loss: 3.9757 - acc: 0.1119 - val_loss: 3.2708 - val_acc: 0.1250\n",
      "Epoch 46/100\n",
      "1224/1224 [==============================] - 51s 42ms/step - loss: 3.9077 - acc: 0.1168 - val_loss: 3.4660 - val_acc: 0.1471\n",
      "Epoch 47/100\n",
      "1224/1224 [==============================] - 51s 42ms/step - loss: 3.9507 - acc: 0.1209 - val_loss: 3.1532 - val_acc: 0.1397\n",
      "Epoch 48/100\n",
      "1224/1224 [==============================] - 51s 42ms/step - loss: 4.1814 - acc: 0.1160 - val_loss: 3.2535 - val_acc: 0.1765\n",
      "Epoch 49/100\n",
      "1224/1224 [==============================] - 51s 42ms/step - loss: 4.1645 - acc: 0.1234 - val_loss: 3.8353 - val_acc: 0.1250\n",
      "Epoch 50/100\n",
      "1224/1224 [==============================] - 51s 42ms/step - loss: 3.9793 - acc: 0.1193 - val_loss: 3.2115 - val_acc: 0.1471\n",
      "Epoch 51/100\n",
      "1224/1224 [==============================] - 51s 42ms/step - loss: 4.0011 - acc: 0.1201 - val_loss: 2.7419 - val_acc: 0.1324\n",
      "Epoch 52/100\n",
      "1224/1224 [==============================] - 51s 42ms/step - loss: 3.9739 - acc: 0.1291 - val_loss: 3.2558 - val_acc: 0.1324\n",
      "Epoch 53/100\n",
      "1224/1224 [==============================] - 51s 42ms/step - loss: 4.1500 - acc: 0.1111 - val_loss: 3.4939 - val_acc: 0.0956\n",
      "Epoch 54/100\n",
      "1224/1224 [==============================] - 51s 42ms/step - loss: 4.0437 - acc: 0.1127 - val_loss: 3.0887 - val_acc: 0.1544\n",
      "Epoch 55/100\n",
      "1224/1224 [==============================] - 51s 42ms/step - loss: 4.0076 - acc: 0.1152 - val_loss: 3.3889 - val_acc: 0.1324\n",
      "Epoch 56/100\n",
      "1224/1224 [==============================] - 51s 42ms/step - loss: 4.1686 - acc: 0.1103 - val_loss: 3.4594 - val_acc: 0.1029\n",
      "Epoch 57/100\n",
      "1224/1224 [==============================] - 51s 42ms/step - loss: 4.2651 - acc: 0.1070 - val_loss: 3.6041 - val_acc: 0.1176\n",
      "Epoch 58/100\n",
      "1224/1224 [==============================] - 51s 42ms/step - loss: 4.1567 - acc: 0.1185 - val_loss: 4.0511 - val_acc: 0.0735\n",
      "Epoch 59/100\n",
      "1224/1224 [==============================] - 51s 42ms/step - loss: 3.9561 - acc: 0.1373 - val_loss: 2.9986 - val_acc: 0.1618\n",
      "Epoch 60/100\n"
     ]
    },
    {
     "name": "stdout",
     "output_type": "stream",
     "text": [
      "1224/1224 [==============================] - 51s 42ms/step - loss: 4.2636 - acc: 0.1266 - val_loss: 3.6032 - val_acc: 0.1618\n",
      "Epoch 61/100\n",
      "1224/1224 [==============================] - 51s 42ms/step - loss: 3.9013 - acc: 0.1307 - val_loss: 4.4771 - val_acc: 0.1397\n",
      "Epoch 62/100\n",
      "1224/1224 [==============================] - 50s 41ms/step - loss: 3.9786 - acc: 0.1389 - val_loss: 3.5093 - val_acc: 0.1397\n",
      "Epoch 63/100\n",
      "1224/1224 [==============================] - 51s 41ms/step - loss: 3.9610 - acc: 0.1307 - val_loss: 3.5291 - val_acc: 0.1324\n",
      "Epoch 64/100\n",
      "1224/1224 [==============================] - 51s 42ms/step - loss: 3.9778 - acc: 0.1217 - val_loss: 3.2523 - val_acc: 0.1324\n",
      "Epoch 65/100\n",
      "1224/1224 [==============================] - 51s 42ms/step - loss: 4.0213 - acc: 0.1356 - val_loss: 3.1196 - val_acc: 0.1544\n",
      "Epoch 66/100\n",
      "1224/1224 [==============================] - 51s 42ms/step - loss: 4.0520 - acc: 0.1275 - val_loss: 2.7929 - val_acc: 0.1838\n",
      "Epoch 67/100\n",
      "1224/1224 [==============================] - 51s 42ms/step - loss: 3.8975 - acc: 0.1381 - val_loss: 3.0201 - val_acc: 0.1250\n",
      "Epoch 68/100\n",
      "1224/1224 [==============================] - 51s 42ms/step - loss: 3.9519 - acc: 0.1438 - val_loss: 3.2336 - val_acc: 0.1544\n",
      "Epoch 69/100\n",
      "1224/1224 [==============================] - 51s 42ms/step - loss: 3.9487 - acc: 0.1462 - val_loss: 2.9391 - val_acc: 0.2206\n",
      "Epoch 70/100\n",
      "1224/1224 [==============================] - 51s 42ms/step - loss: 3.7885 - acc: 0.1609 - val_loss: 2.5829 - val_acc: 0.2206\n",
      "Epoch 71/100\n",
      "1224/1224 [==============================] - 51s 42ms/step - loss: 3.8237 - acc: 0.1487 - val_loss: 3.0221 - val_acc: 0.1471\n",
      "Epoch 72/100\n",
      "1224/1224 [==============================] - 51s 42ms/step - loss: 3.8320 - acc: 0.1389 - val_loss: 3.6932 - val_acc: 0.1176\n",
      "Epoch 73/100\n",
      "1224/1224 [==============================] - 51s 42ms/step - loss: 3.8613 - acc: 0.1381 - val_loss: 3.0543 - val_acc: 0.1838\n",
      "Epoch 74/100\n",
      "1224/1224 [==============================] - 51s 42ms/step - loss: 4.0965 - acc: 0.1356 - val_loss: 4.2497 - val_acc: 0.0882\n",
      "Epoch 75/100\n",
      "1224/1224 [==============================] - 51s 42ms/step - loss: 4.3356 - acc: 0.1242 - val_loss: 4.6942 - val_acc: 0.0588\n",
      "Epoch 76/100\n",
      "1224/1224 [==============================] - 51s 42ms/step - loss: 4.0088 - acc: 0.1405 - val_loss: 3.2142 - val_acc: 0.1912\n",
      "Epoch 77/100\n",
      "1224/1224 [==============================] - 1938s 2s/step - loss: 3.8461 - acc: 0.1642 - val_loss: 2.9296 - val_acc: 0.1544\n",
      "Epoch 78/100\n",
      "1224/1224 [==============================] - 51s 42ms/step - loss: 3.7903 - acc: 0.1732 - val_loss: 2.8611 - val_acc: 0.2059\n",
      "Epoch 79/100\n",
      "1224/1224 [==============================] - 51s 42ms/step - loss: 3.8804 - acc: 0.1650 - val_loss: 2.9810 - val_acc: 0.1765\n",
      "Epoch 80/100\n",
      "1224/1224 [==============================] - 51s 42ms/step - loss: 3.8953 - acc: 0.1601 - val_loss: 3.2327 - val_acc: 0.1544\n",
      "Epoch 81/100\n",
      "1224/1224 [==============================] - 51s 42ms/step - loss: 4.1458 - acc: 0.1413 - val_loss: 3.2128 - val_acc: 0.1618\n",
      "Epoch 82/100\n",
      "1224/1224 [==============================] - 51s 42ms/step - loss: 3.8301 - acc: 0.1585 - val_loss: 2.8527 - val_acc: 0.2206\n",
      "Epoch 83/100\n",
      "1224/1224 [==============================] - 51s 42ms/step - loss: 3.9368 - acc: 0.1577 - val_loss: 3.2200 - val_acc: 0.1471\n",
      "Epoch 84/100\n",
      "1224/1224 [==============================] - 51s 42ms/step - loss: 4.0807 - acc: 0.1618 - val_loss: 3.4805 - val_acc: 0.1471\n",
      "Epoch 85/100\n",
      "1224/1224 [==============================] - 51s 42ms/step - loss: 3.7980 - acc: 0.1716 - val_loss: 3.2964 - val_acc: 0.2132\n",
      "Epoch 86/100\n",
      "1224/1224 [==============================] - 51s 42ms/step - loss: 3.8131 - acc: 0.1822 - val_loss: 3.1484 - val_acc: 0.1397\n",
      "Epoch 87/100\n",
      "1224/1224 [==============================] - 51s 42ms/step - loss: 3.8466 - acc: 0.1855 - val_loss: 2.9939 - val_acc: 0.1838\n",
      "Epoch 88/100\n",
      "1224/1224 [==============================] - 51s 42ms/step - loss: 4.0744 - acc: 0.1438 - val_loss: 3.0661 - val_acc: 0.1471\n",
      "Epoch 89/100\n",
      "1224/1224 [==============================] - 51s 42ms/step - loss: 4.1032 - acc: 0.1683 - val_loss: 3.6548 - val_acc: 0.1471\n",
      "Epoch 90/100\n",
      "1224/1224 [==============================] - 51s 42ms/step - loss: 4.0171 - acc: 0.1683 - val_loss: 3.4308 - val_acc: 0.1765\n",
      "Epoch 91/100\n",
      "1224/1224 [==============================] - 51s 42ms/step - loss: 3.8007 - acc: 0.1724 - val_loss: 2.8081 - val_acc: 0.1618\n",
      "Epoch 92/100\n",
      "1224/1224 [==============================] - 51s 42ms/step - loss: 3.8134 - acc: 0.1708 - val_loss: 2.7475 - val_acc: 0.1912\n",
      "Epoch 93/100\n",
      "1224/1224 [==============================] - 51s 42ms/step - loss: 3.8485 - acc: 0.1593 - val_loss: 2.8515 - val_acc: 0.2132\n",
      "Epoch 94/100\n",
      "1224/1224 [==============================] - 51s 42ms/step - loss: 3.8841 - acc: 0.1765 - val_loss: 2.6464 - val_acc: 0.2206\n",
      "Epoch 95/100\n",
      "1224/1224 [==============================] - 51s 42ms/step - loss: 3.9424 - acc: 0.1838 - val_loss: 3.6804 - val_acc: 0.1397\n",
      "Epoch 96/100\n",
      "1224/1224 [==============================] - 51s 42ms/step - loss: 4.0189 - acc: 0.1822 - val_loss: 3.4534 - val_acc: 0.1765\n",
      "Epoch 97/100\n",
      "1224/1224 [==============================] - 51s 42ms/step - loss: 3.8931 - acc: 0.1601 - val_loss: 3.4221 - val_acc: 0.1544\n",
      "Epoch 98/100\n",
      "1224/1224 [==============================] - 50s 41ms/step - loss: 3.8996 - acc: 0.1838 - val_loss: 3.1532 - val_acc: 0.2279\n",
      "Epoch 99/100\n",
      "1224/1224 [==============================] - 51s 41ms/step - loss: 3.9346 - acc: 0.1699 - val_loss: 3.0448 - val_acc: 0.2059\n",
      "Epoch 100/100\n",
      "1224/1224 [==============================] - 51s 42ms/step - loss: 3.6918 - acc: 0.2002 - val_loss: 2.7233 - val_acc: 0.2353\n"
     ]
    },
    {
     "data": {
      "text/plain": [
       "<keras.callbacks.History at 0x2a7a8b4b4e0>"
      ]
     },
     "execution_count": 17,
     "metadata": {},
     "output_type": "execute_result"
    }
   ],
   "source": [
    "model.fit(X, Y, batch_size=16, epochs=100, verbose=1, validation_split=0.1, shuffle=True, callbacks=[tensorbrd])"
   ]
  },
  {
   "cell_type": "code",
   "execution_count": null,
   "metadata": {},
   "outputs": [],
   "source": []
  }
 ],
 "metadata": {
  "kernelspec": {
   "display_name": "Python 3",
   "language": "python",
   "name": "python3"
  },
  "language_info": {
   "codemirror_mode": {
    "name": "ipython",
    "version": 3
   },
   "file_extension": ".py",
   "mimetype": "text/x-python",
   "name": "python",
   "nbconvert_exporter": "python",
   "pygments_lexer": "ipython3",
   "version": "3.5.3"
  }
 },
 "nbformat": 4,
 "nbformat_minor": 2
}
