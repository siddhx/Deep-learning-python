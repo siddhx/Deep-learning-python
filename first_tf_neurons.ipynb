{
 "cells": [
  {
   "cell_type": "markdown",
   "metadata": {},
   "source": [
    "# First TF Neurons "
   ]
  },
  {
   "cell_type": "code",
   "execution_count": 1,
   "metadata": {},
   "outputs": [],
   "source": [
    "import numpy as np\n",
    "np.random.seed(42)\n",
    "import tensorflow as tf\n",
    "tf.set_random_seed(42)\n",
    "import matplotlib.pyplot as plt"
   ]
  },
  {
   "cell_type": "markdown",
   "metadata": {},
   "source": [
    "#### Set neurons "
   ]
  },
  {
   "cell_type": "code",
   "execution_count": 2,
   "metadata": {},
   "outputs": [],
   "source": [
    "n_input = 784\n",
    "n_dense = 128"
   ]
  },
  {
   "cell_type": "markdown",
   "metadata": {},
   "source": [
    "#### Define placeholder Tensor "
   ]
  },
  {
   "cell_type": "code",
   "execution_count": 3,
   "metadata": {},
   "outputs": [],
   "source": [
    "x = tf.placeholder(tf.float32, [None, n_input])"
   ]
  },
  {
   "cell_type": "markdown",
   "metadata": {},
   "source": [
    "#### Define Variable Tensors "
   ]
  },
  {
   "cell_type": "code",
   "execution_count": 4,
   "metadata": {},
   "outputs": [],
   "source": [
    "b = tf.Variable(tf.zeros([n_dense]))\n",
    "# W = tf.Variable(tf.random_uniform([n_input, n_dense]))\n",
    "# W = tf.Variable(tf.random_normal([n_input, n_dense]))\n",
    "W = tf.get_variable('W', [n_input, n_dense], initializer=tf.contrib.layers.xavier_initializer())"
   ]
  },
  {
   "cell_type": "markdown",
   "metadata": {},
   "source": [
    "#### Design the computational graph "
   ]
  },
  {
   "cell_type": "code",
   "execution_count": 5,
   "metadata": {},
   "outputs": [],
   "source": [
    "z = tf.add(tf.matmul(x, W), b)\n",
    "# a = tf.sigmoid(z)\n",
    "# a = tf.tanh(z)\n",
    "a = tf.nn.relu(z)"
   ]
  },
  {
   "cell_type": "markdown",
   "metadata": {},
   "source": [
    "#### Initialize variables"
   ]
  },
  {
   "cell_type": "code",
   "execution_count": 6,
   "metadata": {},
   "outputs": [],
   "source": [
    "initializer_op = tf.global_variables_initializer()"
   ]
  },
  {
   "cell_type": "markdown",
   "metadata": {},
   "source": [
    "#### Execute graph "
   ]
  },
  {
   "cell_type": "code",
   "execution_count": 7,
   "metadata": {},
   "outputs": [],
   "source": [
    "with tf.Session() as session:\n",
    "    session.run(initializer_op)\n",
    "    \n",
    "    layer_output = session.run(a, feed_dict={x: np.random.random([1, n_input])})"
   ]
  },
  {
   "cell_type": "code",
   "execution_count": 8,
   "metadata": {},
   "outputs": [
    {
     "data": {
      "text/plain": [
       "array([[0.25643638, 0.        , 0.5173333 , 0.        , 0.        ,\n",
       "        1.2463878 , 0.        , 0.        , 0.        , 0.        ,\n",
       "        0.        , 0.32089514, 0.3948112 , 0.        , 0.        ,\n",
       "        0.        , 0.56439143, 0.4333698 , 1.362452  , 0.        ,\n",
       "        0.        , 0.        , 0.        , 0.5778085 , 1.1016916 ,\n",
       "        0.24567479, 0.        , 0.        , 0.        , 0.        ,\n",
       "        0.        , 0.10000596, 0.6388023 , 0.        , 0.7223953 ,\n",
       "        0.48174956, 0.70301956, 0.77979827, 0.19448392, 0.        ,\n",
       "        0.        , 0.        , 0.        , 0.        , 0.18625347,\n",
       "        0.48996294, 0.6068444 , 0.14921768, 1.084022  , 0.        ,\n",
       "        0.        , 0.05923132, 0.30702794, 1.0357133 , 0.        ,\n",
       "        0.        , 1.025731  , 0.        , 0.        , 0.9367061 ,\n",
       "        0.24978009, 0.00735237, 0.        , 0.03314386, 0.        ,\n",
       "        0.47908536, 0.        , 0.        , 0.62482446, 0.16970888,\n",
       "        0.4654267 , 0.39931297, 0.        , 0.7387675 , 0.4421659 ,\n",
       "        0.        , 0.        , 0.08802692, 0.6127275 , 0.480627  ,\n",
       "        0.        , 0.        , 1.9988734 , 0.8167335 , 0.22140063,\n",
       "        0.        , 0.05161889, 0.        , 0.        , 0.96530807,\n",
       "        0.        , 0.9857416 , 0.        , 0.        , 0.        ,\n",
       "        0.8313618 , 0.        , 0.        , 0.        , 0.06226689,\n",
       "        0.11083203, 0.        , 0.        , 0.3959919 , 0.11766048,\n",
       "        1.2610868 , 0.12403277, 0.        , 0.        , 0.        ,\n",
       "        0.8244157 , 0.0401962 , 0.        , 1.5016208 , 1.4590434 ,\n",
       "        0.        , 0.        , 0.70367247, 0.        , 0.        ,\n",
       "        0.        , 1.225201  , 0.        , 0.        , 0.        ,\n",
       "        0.44181383, 0.2619316 , 0.        ]], dtype=float32)"
      ]
     },
     "execution_count": 8,
     "metadata": {},
     "output_type": "execute_result"
    }
   ],
   "source": [
    "layer_output"
   ]
  },
  {
   "cell_type": "code",
   "execution_count": 9,
   "metadata": {},
   "outputs": [
    {
     "data": {
      "image/png": "[encoded data removed]",
      "text/plain": [
       "<Figure size 432x288 with 1 Axes>"
      ]
     },
     "metadata": {},
     "output_type": "display_data"
    }
   ],
   "source": [
    "_ = plt.hist(np.transpose(layer_output))"
   ]
  },
  {
   "cell_type": "code",
   "execution_count": null,
   "metadata": {},
   "outputs": [],
   "source": []
  }
 ],
 "metadata": {
  "kernelspec": {
   "display_name": "Python 3",
   "language": "python",
   "name": "python3"
  },
  "language_info": {
   "codemirror_mode": {
    "name": "ipython",
    "version": 3
   },
   "file_extension": ".py",
   "mimetype": "text/x-python",
   "name": "python",
   "nbconvert_exporter": "python",
   "pygments_lexer": "ipython3",
   "version": "3.5.3"
  }
 },
 "nbformat": 4,
 "nbformat_minor": 2
}
